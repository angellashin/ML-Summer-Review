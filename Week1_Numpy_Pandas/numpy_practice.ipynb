{
  "nbformat": 4,
  "nbformat_minor": 0,
  "metadata": {
    "colab": {
      "provenance": []
    },
    "kernelspec": {
      "name": "python3",
      "display_name": "Python 3"
    },
    "language_info": {
      "name": "python"
    }
  },
  "cells": [
    {
      "cell_type": "markdown",
      "source": [
        "# ML Python Library\n",
        "1. NumPy (Numerical Python)\n",
        "- multi-dimensional arrays (vectors, matrices)\n",
        "- used for: Array math, linear algebra, broadcasting (Vectorized ops), random numbers\n",
        "- core for all other libraries (Pasdas, TensoFlow, Pytorch)\n"
      ],
      "metadata": {
        "id": "O50illqp3xUg"
      }
    },
    {
      "cell_type": "markdown",
      "source": [
        "## 1. NumPy (Numerical Python)\n",
        "- multi-dimensional arrays (vectors, matrices)\n",
        "- used for: Array math, linear algebra, broadcasting (Vectorized ops), random numbers\n",
        "- core for all other libraries (Pasdas, TensoFlow, Pytorch)"
      ],
      "metadata": {
        "id": "OhUTCIoV4WKp"
      }
    },
    {
      "cell_type": "code",
      "execution_count": 5,
      "metadata": {
        "colab": {
          "base_uri": "https://localhost:8080/"
        },
        "id": "5gwwsl463aYe",
        "outputId": "baeb9836-103e-44c4-fb68-fd5d4b3ccbab"
      },
      "outputs": [
        {
          "output_type": "execute_result",
          "data": {
            "text/plain": [
              "array([[ 7, 10],\n",
              "       [15, 22]])"
            ]
          },
          "metadata": {},
          "execution_count": 5
        }
      ],
      "source": [
        "import numpy as np\n",
        "\n",
        "arr = array = np.array([1,2,3])\n",
        "arr + 1 #output [2,3,4]\n",
        "#mean and std\n",
        "np.mean(arr) #2.0\n",
        "np.std(arr) #0.815...\n",
        "# 2D matrix\n",
        "mat = np.array([[1,2],[3,4]])\n",
        "mat.T #transpose\n",
        "np.dot(mat, mat) #matrix multiplication"
      ]
    },
    {
      "cell_type": "markdown",
      "source": [
        "## 2. Pandas\n",
        "- built on top of Numpy\n",
        "- for data manipulation and analysis\n",
        "- series (1D array) & DataFrame (2D table)\n",
        "- used for: reading data (CSV, excel), clearning data (missing values, renaming, filtering), exploring data (summaries, groupby, sorting, joining)"
      ],
      "metadata": {
        "id": "vZANJiJ86Yn0"
      }
    },
    {
      "cell_type": "code",
      "source": [
        "import pandas as pd\n",
        "\n",
        "#import dataframe\n",
        "df = pd.read_csv('Titanic-Dataset.csv')\n",
        "df.head() #first 5 rows\n",
        "df['Age'].mean() #column age mean\n",
        "df[df['Survived'] == 1] #filter rows that has survived\n",
        "\n",
        "#fill missing values\n",
        "df['Age'].fillna(df['Age'].mean(), inplace=True)\n",
        "\n",
        "#group by sex\n",
        "df.groupby('Sex')['Survived'].mean()"
      ],
      "metadata": {
        "colab": {
          "base_uri": "https://localhost:8080/",
          "height": 323
        },
        "id": "CBFX_mp765Ix",
        "outputId": "29af46e3-d15e-4e9e-842d-496929e7fc3d"
      },
      "execution_count": 6,
      "outputs": [
        {
          "output_type": "stream",
          "name": "stderr",
          "text": [
            "/tmp/ipython-input-6-1383860617.py:10: FutureWarning: A value is trying to be set on a copy of a DataFrame or Series through chained assignment using an inplace method.\n",
            "The behavior will change in pandas 3.0. This inplace method will never work because the intermediate object on which we are setting values always behaves as a copy.\n",
            "\n",
            "For example, when doing 'df[col].method(value, inplace=True)', try using 'df.method({col: value}, inplace=True)' or df[col] = df[col].method(value) instead, to perform the operation inplace on the original object.\n",
            "\n",
            "\n",
            "  df['Age'].fillna(df['Age'].mean(), inplace=True)\n"
          ]
        },
        {
          "output_type": "execute_result",
          "data": {
            "text/plain": [
              "Sex\n",
              "female    0.742038\n",
              "male      0.188908\n",
              "Name: Survived, dtype: float64"
            ],
            "text/html": [
              "<div>\n",
              "<style scoped>\n",
              "    .dataframe tbody tr th:only-of-type {\n",
              "        vertical-align: middle;\n",
              "    }\n",
              "\n",
              "    .dataframe tbody tr th {\n",
              "        vertical-align: top;\n",
              "    }\n",
              "\n",
              "    .dataframe thead th {\n",
              "        text-align: right;\n",
              "    }\n",
              "</style>\n",
              "<table border=\"1\" class=\"dataframe\">\n",
              "  <thead>\n",
              "    <tr style=\"text-align: right;\">\n",
              "      <th></th>\n",
              "      <th>Survived</th>\n",
              "    </tr>\n",
              "    <tr>\n",
              "      <th>Sex</th>\n",
              "      <th></th>\n",
              "    </tr>\n",
              "  </thead>\n",
              "  <tbody>\n",
              "    <tr>\n",
              "      <th>female</th>\n",
              "      <td>0.742038</td>\n",
              "    </tr>\n",
              "    <tr>\n",
              "      <th>male</th>\n",
              "      <td>0.188908</td>\n",
              "    </tr>\n",
              "  </tbody>\n",
              "</table>\n",
              "</div><br><label><b>dtype:</b> float64</label>"
            ]
          },
          "metadata": {},
          "execution_count": 6
        }
      ]
    },
    {
      "cell_type": "markdown",
      "source": [
        "## 3. Matplotlib & Seaborn\n",
        "- Matplotlib for main plotting library\n",
        "- Seaborn for more beautiful wrapper, focused on statistical plots\n",
        "- used for data visualization (trends, outliers, distributions)\n",
        "- histograms, lineplots, scatter plots, box plots, heatmaps"
      ],
      "metadata": {
        "id": "MCFez5SN6Xlx"
      }
    },
    {
      "cell_type": "code",
      "source": [
        "import matplotlib.pyplot as plt\n",
        "import seaborn as sns\n",
        "\n",
        "plt.hist(df['Age'].dropna(), bins = 20) #visualizing distribution of age, remove missing values\n",
        "plt.title(\"Age Distribution\")\n",
        "plt.show()\n",
        "\n",
        "sns.boxplot(x=\"Survived\", y = \"Age\", data=df)"
      ],
      "metadata": {
        "colab": {
          "base_uri": "https://localhost:8080/",
          "height": 902
        },
        "id": "gSuhgfG49BDQ",
        "outputId": "ca09e805-e929-424d-db14-ae8301b99053"
      },
      "execution_count": 7,
      "outputs": [
        {
          "output_type": "display_data",
          "data": {
            "text/plain": [
              "<Figure size 640x480 with 1 Axes>"
            ],
            "image/png": "[encoded data removed]"
          },
          "metadata": {}
        },
        {
          "output_type": "execute_result",
          "data": {
            "text/plain": [
              "<Axes: xlabel='Survived', ylabel='Age'>"
            ]
          },
          "metadata": {},
          "execution_count": 7
        },
        {
          "output_type": "display_data",
          "data": {
            "text/plain": [
              "<Figure size 640x480 with 1 Axes>"
            ],
            "image/png": "[encoded data removed]"
          },
          "metadata": {}
        }
      ]
    },
    {
      "cell_type": "markdown",
      "source": [
        "## 4. Scikit-learn (sklearn)\n",
        "- built on NumPy, SciPy, Pandas\n",
        "- built-in ML models (classification, regression, clustering, etc.)\n",
        "- for building ML models\n",
        "- for Preprocessing (standardization, encoding), splitting data, cross-validation\n",
        "- for trying different ML algorithms\n",
        "\n",
        "- X is capitalized (features/input matrix 2D)\n",
        "\n",
        "- y is lowercase (target/output vector 1D)"
      ],
      "metadata": {
        "id": "2q4cgEbB-cWX"
      }
    },
    {
      "cell_type": "code",
      "source": [
        "from sklearn.linear_model import LogisticRegression\n",
        "from sklearn.model_selection import train_test_split\n",
        "from sklearn.metrics import accuracy_score\n",
        "\n",
        "#split data\n",
        "X = df[['Age','Fare']]\n",
        "y = df[\"Survived\"]\n",
        "X_train, X_test, y_train, y_test = train_test_split(X, y, test_size=0.2)\n",
        "\n",
        "#train model\n",
        "model = LogisticRegression()\n",
        "model.fit(X_train, y_train)\n",
        "model\n",
        "#predict\n",
        "preds = model.predict(X_test)\n",
        "accuracy_score(y_test, preds)"
      ],
      "metadata": {
        "colab": {
          "base_uri": "https://localhost:8080/"
        },
        "id": "6d9BQQeAB6cO",
        "outputId": "86455cea-c71c-4836-a878-0eb98b221bb0"
      },
      "execution_count": 8,
      "outputs": [
        {
          "output_type": "execute_result",
          "data": {
            "text/plain": [
              "0.7039106145251397"
            ]
          },
          "metadata": {},
          "execution_count": 8
        }
      ]
    },
    {
      "cell_type": "markdown",
      "source": [
        "# Section 1. NumPy Basics (Arrays, Index, Math)"
      ],
      "metadata": {
        "id": "MJvtdELQEF8Q"
      }
    },
    {
      "cell_type": "markdown",
      "source": [
        "## 1.1 Import numpy, check version"
      ],
      "metadata": {
        "id": "X4ml_MhMNbfY"
      }
    },
    {
      "cell_type": "code",
      "source": [
        "import numpy as np\n",
        "print(\"NumPy version: \", np.__version__)"
      ],
      "metadata": {
        "colab": {
          "base_uri": "https://localhost:8080/"
        },
        "id": "WuWj-E0yNasm",
        "outputId": "91432cab-201a-46f1-8552-53be133dfac7"
      },
      "execution_count": 9,
      "outputs": [
        {
          "output_type": "stream",
          "name": "stdout",
          "text": [
            "NumPy version:  2.0.2\n"
          ]
        }
      ]
    },
    {
      "cell_type": "markdown",
      "source": [
        "## 1.2 Create Arrays"
      ],
      "metadata": {
        "id": "DTMTVIK_Nlaw"
      }
    },
    {
      "cell_type": "code",
      "source": [
        "a = np.array([1,2,3,4])\n",
        "print(\"1D array: \", a) #just a row of numbers\n",
        "print(\"Shape: \", a.shape) #(4,) means 4 elements in 1D\n",
        "print(\"Data type:\", a.dtype) #based on my system, integers"
      ],
      "metadata": {
        "colab": {
          "base_uri": "https://localhost:8080/"
        },
        "id": "bM4WAwsENnJQ",
        "outputId": "bc4bfd4a-91f6-433c-f075-2ac300d86f91"
      },
      "execution_count": 10,
      "outputs": [
        {
          "output_type": "stream",
          "name": "stdout",
          "text": [
            "1D array:  [1 2 3 4]\n",
            "Shape:  (4,)\n",
            "Data type: int64\n"
          ]
        }
      ]
    },
    {
      "cell_type": "code",
      "source": [
        "b = np.array([[1,2],[3,4]])\n",
        "print(\"2D array: \", b) #a matrix of 2 rows, 2 columns\n",
        "print(\"Shape:\", b.shape)"
      ],
      "metadata": {
        "colab": {
          "base_uri": "https://localhost:8080/"
        },
        "id": "IWCVCwKcOVDe",
        "outputId": "474bdd16-4192-4a70-8937-645dc7b88fa8"
      },
      "execution_count": 11,
      "outputs": [
        {
          "output_type": "stream",
          "name": "stdout",
          "text": [
            "2D array:  [[1 2]\n",
            " [3 4]]\n",
            "Shape: (2, 2)\n"
          ]
        }
      ]
    },
    {
      "cell_type": "markdown",
      "source": [
        "## 1.3 Indexing and Slicing\n",
        "extracting specific elements from arrays"
      ],
      "metadata": {
        "id": "rSfj6FcXOlG1"
      }
    },
    {
      "cell_type": "code",
      "source": [
        "#indexing 1D\n",
        "print(a[0]) #first element\n",
        "print(a[-1]) #last element\n",
        "print(a[1:3]) #index 1 ~ before 3\n",
        "#indexing 2D\n",
        "print(b[0,1]) #row 0, column 1\n",
        "print(b[:,0]) #all rows, column 0"
      ],
      "metadata": {
        "colab": {
          "base_uri": "https://localhost:8080/"
        },
        "id": "TWC-bu0HOm97",
        "outputId": "4b86444b-42a8-4198-dbee-c9c5638b9f15"
      },
      "execution_count": 12,
      "outputs": [
        {
          "output_type": "stream",
          "name": "stdout",
          "text": [
            "1\n",
            "4\n",
            "[2 3]\n",
            "2\n",
            "[1 3]\n"
          ]
        }
      ]
    },
    {
      "cell_type": "markdown",
      "source": [
        "## 1.4 Element-wise Math"
      ],
      "metadata": {
        "id": "QgQSB_aANaa5"
      }
    },
    {
      "cell_type": "code",
      "source": [
        "x = np.array([1,2,3])\n",
        "y = np.array([4,5,6])\n",
        "\n",
        "print(x+y) #각 열 더하기\n",
        "print(x*y) #각 열 곱 [4 10 18]\n",
        "print(x ** 2) #squaring\n",
        "print(np.sqrt(y)) #square root"
      ],
      "metadata": {
        "colab": {
          "base_uri": "https://localhost:8080/"
        },
        "id": "m4pzBai2PoQN",
        "outputId": "62fde9a3-c378-40b1-a600-026a514c35e5"
      },
      "execution_count": 13,
      "outputs": [
        {
          "output_type": "stream",
          "name": "stdout",
          "text": [
            "[5 7 9]\n",
            "[ 4 10 18]\n",
            "[1 4 9]\n",
            "[2.         2.23606798 2.44948974]\n"
          ]
        }
      ]
    },
    {
      "cell_type": "markdown",
      "source": [
        "## 1.5 Broadcasting 브로드캐스팅\n",
        "- 서로 다른 모양의 배열끼리 연산할 때, 작은 배열을 자동으로 늘려서 연산 가능케 만들어주는 기능\n",
        "- 차원을 알아서 맞춰주는 것"
      ],
      "metadata": {
        "id": "52_-ThGdQWHh"
      }
    },
    {
      "cell_type": "code",
      "source": [
        "a = np.array([[1],[2],[3]]) #shape: (3,1) 행3 열1\n",
        "b = np.array([10,20,30]) #shape: (3,) 3 elements in a row\n",
        "print (a,b)\n",
        "print(a+b) #broadcasting: b를 가상으로 3행으로 복제하여 덧셈"
      ],
      "metadata": {
        "colab": {
          "base_uri": "https://localhost:8080/"
        },
        "id": "9oo7FqtPQls-",
        "outputId": "125d5b83-d1fd-41ed-8c33-ca757f922729"
      },
      "execution_count": 14,
      "outputs": [
        {
          "output_type": "stream",
          "name": "stdout",
          "text": [
            "[[1]\n",
            " [2]\n",
            " [3]] [10 20 30]\n",
            "[[11 21 31]\n",
            " [12 22 32]\n",
            " [13 23 33]]\n"
          ]
        }
      ]
    },
    {
      "cell_type": "markdown",
      "source": [
        "#Section 2. Array Reshaping & Matrix Operations\n"
      ],
      "metadata": {
        "id": "OxxS7j5O2sS3"
      }
    },
    {
      "cell_type": "markdown",
      "source": [
        "## 2.1 Reshaping Arrays\n",
        "- reshape() changes the shape of an array without changing its data\n",
        "- .flatten() converts a multi-dimentsional array into a 1D array"
      ],
      "metadata": {
        "id": "sobyTFgQ2xzN"
      }
    },
    {
      "cell_type": "code",
      "source": [
        "import numpy as np\n",
        "\n",
        "a = np.array([1,2,3,4,5,6])\n",
        "print(\"Original shape: \", a.shape) #shape (6,)\n",
        "\n",
        "a_reshaped = a.reshape((2,3)) #reshape to 2 rows, 3 columns\n",
        "print(\"Reshaped: \", a_reshaped)"
      ],
      "metadata": {
        "colab": {
          "base_uri": "https://localhost:8080/"
        },
        "id": "LgMINelh2YJk",
        "outputId": "d6014184-d43b-4b8b-d776-5a468f8af4ff"
      },
      "execution_count": 15,
      "outputs": [
        {
          "output_type": "stream",
          "name": "stdout",
          "text": [
            "Original shape:  (6,)\n",
            "Reshaped:  [[1 2 3]\n",
            " [4 5 6]]\n"
          ]
        }
      ]
    },
    {
      "cell_type": "code",
      "source": [
        "b = a_reshaped.flatten()\n",
        "b #back to 1d array"
      ],
      "metadata": {
        "colab": {
          "base_uri": "https://localhost:8080/"
        },
        "id": "3sc9kRh68z4Z",
        "outputId": "b287b76f-7fbf-46f8-dc4d-8bff077b42ba"
      },
      "execution_count": 16,
      "outputs": [
        {
          "output_type": "execute_result",
          "data": {
            "text/plain": [
              "array([1, 2, 3, 4, 5, 6])"
            ]
          },
          "metadata": {},
          "execution_count": 16
        }
      ]
    },
    {
      "cell_type": "markdown",
      "source": [
        "## 2.2 Transpose\n",
        "- array.T\n",
        "- swaps rows and columns (used for changing input shape)"
      ],
      "metadata": {
        "id": "Xjun7MEi8tuN"
      }
    },
    {
      "cell_type": "code",
      "source": [
        "A = np.array([[1,2],[3,4]])\n",
        "print(\"Original: \\n\", A)\n",
        "print(\"Transposed: \\n\", A.T)"
      ],
      "metadata": {
        "colab": {
          "base_uri": "https://localhost:8080/"
        },
        "id": "A1fM6LZJ95wL",
        "outputId": "3a937f36-b43b-4cf1-da1a-448ffce70c35"
      },
      "execution_count": 17,
      "outputs": [
        {
          "output_type": "stream",
          "name": "stdout",
          "text": [
            "Original: \n",
            " [[1 2]\n",
            " [3 4]]\n",
            "Transposed: \n",
            " [[1 3]\n",
            " [2 4]]\n"
          ]
        }
      ]
    },
    {
      "cell_type": "markdown",
      "source": [
        "## 2.3 Matrix Multiplication\n",
        "- use @ or np.dot()"
      ],
      "metadata": {
        "id": "2cG0ZjrEQvf0"
      }
    },
    {
      "cell_type": "code",
      "source": [
        "A = np.array([[1,2],[3,4]])\n",
        "B = np.array([[5,6],[7,8]])\n",
        "np.dot(A,B)\n",
        "A @ B"
      ],
      "metadata": {
        "colab": {
          "base_uri": "https://localhost:8080/"
        },
        "id": "kBqpapoh-Y8U",
        "outputId": "948974a4-3a01-43e3-f956-386b82337642"
      },
      "execution_count": 18,
      "outputs": [
        {
          "output_type": "execute_result",
          "data": {
            "text/plain": [
              "array([[19, 22],\n",
              "       [43, 50]])"
            ]
          },
          "metadata": {},
          "execution_count": 18
        }
      ]
    },
    {
      "cell_type": "markdown",
      "source": [
        "## 2.4 Identity & Inverse Matrices\n",
        "- identity matrix:\n",
        "- np.eye()\n",
        "- np.linalg.inv()"
      ],
      "metadata": {
        "id": "diwVl-JM6aSy"
      }
    },
    {
      "cell_type": "code",
      "source": [
        "I = np.eye(3)\n",
        "I #prints identity matrix"
      ],
      "metadata": {
        "colab": {
          "base_uri": "https://localhost:8080/"
        },
        "id": "z8y-84z_6d29",
        "outputId": "8c52c1e0-ba16-48fe-c8e8-7be5c741bc10"
      },
      "execution_count": 19,
      "outputs": [
        {
          "output_type": "execute_result",
          "data": {
            "text/plain": [
              "array([[1., 0., 0.],\n",
              "       [0., 1., 0.],\n",
              "       [0., 0., 1.]])"
            ]
          },
          "metadata": {},
          "execution_count": 19
        }
      ]
    },
    {
      "cell_type": "code",
      "source": [
        "M = np.array([[1,2],[3,4]])\n",
        "M_inv = np.linalg.inv(M)\n",
        "M_inv"
      ],
      "metadata": {
        "colab": {
          "base_uri": "https://localhost:8080/"
        },
        "id": "7s8own846q0q",
        "outputId": "3e608e68-677b-436c-c9ed-766b9ef03275"
      },
      "execution_count": 20,
      "outputs": [
        {
          "output_type": "execute_result",
          "data": {
            "text/plain": [
              "array([[-2. ,  1. ],\n",
              "       [ 1.5, -0.5]])"
            ]
          },
          "metadata": {},
          "execution_count": 20
        }
      ]
    },
    {
      "cell_type": "code",
      "source": [
        "M @ M_inv"
      ],
      "metadata": {
        "colab": {
          "base_uri": "https://localhost:8080/"
        },
        "id": "nOB-Mo9Y6376",
        "outputId": "d263da72-5ab7-4c75-dd57-350518cb47c7"
      },
      "execution_count": 21,
      "outputs": [
        {
          "output_type": "execute_result",
          "data": {
            "text/plain": [
              "array([[1.0000000e+00, 0.0000000e+00],\n",
              "       [8.8817842e-16, 1.0000000e+00]])"
            ]
          },
          "metadata": {},
          "execution_count": 21
        }
      ]
    },
    {
      "cell_type": "markdown",
      "source": [
        "# Section 3. NumPy Statistics & Aggregation\n",
        "- mean, sd, sums across specific axes"
      ],
      "metadata": {
        "id": "AHfJI-zLBdw_"
      }
    },
    {
      "cell_type": "markdown",
      "source": [
        "## 3.1 Basic Statistics Functions\n",
        "- axis=0 column-wise\n",
        "- axis=1 row-wise"
      ],
      "metadata": {
        "id": "iUxxdzJ2Bo-E"
      }
    },
    {
      "cell_type": "code",
      "source": [
        "import numpy as np\n",
        "\n",
        "data = np.array([[1,2,3], [4,5,6],[7,8,9]])\n",
        "print(data)\n",
        "print(int(np.mean(data))) #전체 평균\n",
        "print(np.mean(data, axis=0)) #column mean\n",
        "print(np.mean(data, axis=1)) #row mean"
      ],
      "metadata": {
        "colab": {
          "base_uri": "https://localhost:8080/"
        },
        "id": "VtfEqTr4BoP6",
        "outputId": "f03f885a-b09b-438b-9202-580ddbff7b61"
      },
      "execution_count": 22,
      "outputs": [
        {
          "output_type": "stream",
          "name": "stdout",
          "text": [
            "[[1 2 3]\n",
            " [4 5 6]\n",
            " [7 8 9]]\n",
            "5\n",
            "[4. 5. 6.]\n",
            "[2. 5. 8.]\n"
          ]
        }
      ]
    },
    {
      "cell_type": "code",
      "source": [
        "print(\"sd: \", np.std(data)) #standard deviation 표준편차\n",
        "print(\"var: \", np.var(data)) #variation 분산"
      ],
      "metadata": {
        "colab": {
          "base_uri": "https://localhost:8080/"
        },
        "id": "6pGuRmQhDXvA",
        "outputId": "29a04eb1-85b5-4ee8-d459-9734018b0d7d"
      },
      "execution_count": 23,
      "outputs": [
        {
          "output_type": "stream",
          "name": "stdout",
          "text": [
            "sd:  2.581988897471611\n",
            "var:  6.666666666666667\n"
          ]
        }
      ]
    },
    {
      "cell_type": "code",
      "source": [
        "print(\"sum of all: \", np.sum(data))\n",
        "print(\"sum of each row: \", np.sum(data, axis=1))#row sum"
      ],
      "metadata": {
        "colab": {
          "base_uri": "https://localhost:8080/"
        },
        "id": "JvHXit-jEEuL",
        "outputId": "da0dac9b-63c1-4611-c79f-8be15637ae9c"
      },
      "execution_count": 24,
      "outputs": [
        {
          "output_type": "stream",
          "name": "stdout",
          "text": [
            "sum of all:  45\n",
            "sum of each row:  [ 6 15 24]\n"
          ]
        }
      ]
    },
    {
      "cell_type": "code",
      "source": [
        "import numpy as np\n",
        "arr = np.array([[2,4,6], [1,3,5], [0,7,8]])\n",
        "row_range = np.max(arr, axis=1) - np.min(arr, axis=1)\n",
        "print(row_range)"
      ],
      "metadata": {
        "colab": {
          "base_uri": "https://localhost:8080/"
        },
        "id": "Qyb2IDHCEdVH",
        "outputId": "68d2190d-cf39-45f3-d87e-2a50e305bd28"
      },
      "execution_count": 27,
      "outputs": [
        {
          "output_type": "stream",
          "name": "stdout",
          "text": [
            "[4 4 8]\n"
          ]
        }
      ]
    },
    {
      "cell_type": "markdown",
      "source": [
        "# Section 4. Dot Product & Distance Metrics"
      ],
      "metadata": {
        "id": "XmTozcqQ6qlk"
      }
    },
    {
      "cell_type": "markdown",
      "source": [
        "## 4.1 Dot Product"
      ],
      "metadata": {
        "id": "5zIGG9awgmHz"
      }
    },
    {
      "cell_type": "code",
      "source": [
        "a = np.array([1,2,3])\n",
        "b = np.array([4,5,6])\n",
        "\n",
        "np.dot(a,b)\n",
        "a@b\n"
      ],
      "metadata": {
        "colab": {
          "base_uri": "https://localhost:8080/"
        },
        "id": "bL3HMVRJglOS",
        "outputId": "07ca9201-3c9b-4f06-c1a6-e0feddd9aa83"
      },
      "execution_count": 29,
      "outputs": [
        {
          "output_type": "execute_result",
          "data": {
            "text/plain": [
              "np.int64(32)"
            ]
          },
          "metadata": {},
          "execution_count": 29
        }
      ]
    },
    {
      "cell_type": "markdown",
      "source": [
        "## 4.2 Euclidiean Distance\n",
        "- how far apart two vectors are in space"
      ],
      "metadata": {
        "id": "UR_8lrAOlnDM"
      }
    },
    {
      "cell_type": "code",
      "source": [
        "def euclidean_distance(a,b):\n",
        "  return np.sqrt(np.sum((a-b)**2))\n",
        "\n",
        "v1 = np.array([1,2])\n",
        "v2 = np.array([4,6])\n",
        "\n",
        "euclidean_distance(v1,v2)\n",
        "#sqrt((1-4)^2 + (2-6)^2) = sqrt(9 + 16) = 5.0"
      ],
      "metadata": {
        "colab": {
          "base_uri": "https://localhost:8080/"
        },
        "id": "hKI6kI4dlxhQ",
        "outputId": "e340e87b-62e0-4630-e941-b75e21735455"
      },
      "execution_count": 30,
      "outputs": [
        {
          "output_type": "execute_result",
          "data": {
            "text/plain": [
              "np.float64(5.0)"
            ]
          },
          "metadata": {},
          "execution_count": 30
        }
      ]
    },
    {
      "cell_type": "markdown",
      "source": [
        "## np.linalg.norm() 내장함수 사용가능\n",
        "- calculates the norm of a vector/matrix\n",
        "- (length, magnitude, size)\n",
        "- we might use distance for k-NN, clustering\n",
        "- we might use regularization in cost functions when penalizing model complexity\n",
        "- we might use normalization to convert vectors to unit length\n",
        "\n",
        "![Screenshot 2025-07-17 at 1.20.27 PM.png](data:image/png;base64,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)"
      ],
      "metadata": {
        "id": "grriIKx4mZXb"
      }
    },
    {
      "cell_type": "code",
      "source": [
        "distance = np.linalg.norm(v1 - v2)\n",
        "distance"
      ],
      "metadata": {
        "colab": {
          "base_uri": "https://localhost:8080/"
        },
        "id": "UNeboL-HmCIK",
        "outputId": "a3c0d348-baa0-47e9-e481-019e24ceec08"
      },
      "execution_count": 32,
      "outputs": [
        {
          "output_type": "execute_result",
          "data": {
            "text/plain": [
              "np.float64(5.0)"
            ]
          },
          "metadata": {},
          "execution_count": 32
        }
      ]
    },
    {
      "cell_type": "code",
      "source": [],
      "metadata": {
        "id": "Sn00ooiznHpc"
      },
      "execution_count": null,
      "outputs": []
    },
    {
      "cell_type": "code",
      "source": [
        "v = np.array([3,4])\n",
        "np.linalg.norm(v)\n",
        "#sqrt(3² + 4²) = sqrt(9 + 16) = sqrt(25) = 5"
      ],
      "metadata": {
        "colab": {
          "base_uri": "https://localhost:8080/"
        },
        "id": "KEgCa3LQm6i4",
        "outputId": "dab694f3-6f49-406f-ebfb-5a0c626df141"
      },
      "execution_count": 33,
      "outputs": [
        {
          "output_type": "execute_result",
          "data": {
            "text/plain": [
              "np.float64(5.0)"
            ]
          },
          "metadata": {},
          "execution_count": 33
        }
      ]
    },
    {
      "cell_type": "markdown",
      "source": [
        "## 4.4 Cosine Similarity\n",
        "![1LfW66-WsYkFqWc4XYJbEJg.webp](data:image/webp;base64,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)"
      ],
      "metadata": {
        "id": "XW4Cg6T4m6Wt"
      }
    },
    {
      "cell_type": "code",
      "source": [
        "def cosine_similarity(a,b):\n",
        "  return np.dot(a,b)/(np.linalg.norm(a)*np.linalg.norm(b))\n",
        "\n",
        "a = np.array([1,2,3])\n",
        "b = np.array([4,5,6])\n",
        "cosine_similarity(a,b)"
      ],
      "metadata": {
        "colab": {
          "base_uri": "https://localhost:8080/"
        },
        "id": "Dnz9eG0gnquY",
        "outputId": "45d254c6-f825-44ef-e98d-a27a9a3fc449"
      },
      "execution_count": 35,
      "outputs": [
        {
          "output_type": "execute_result",
          "data": {
            "text/plain": [
              "np.float64(0.9746318461970762)"
            ]
          },
          "metadata": {},
          "execution_count": 35
        }
      ]
    }
  ]
}