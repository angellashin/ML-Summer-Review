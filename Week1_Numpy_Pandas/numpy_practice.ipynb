{
  "nbformat": 4,
  "nbformat_minor": 0,
  "metadata": {
    "colab": {
      "provenance": []
    },
    "kernelspec": {
      "name": "python3",
      "display_name": "Python 3"
    },
    "language_info": {
      "name": "python"
    }
  },
  "cells": [
    {
      "cell_type": "markdown",
      "source": [
        "# ML Python Library\n",
        "1. NumPy (Numerical Python)\n",
        "- multi-dimensional arrays (vectors, matrices)\n",
        "- used for: Array math, linear algebra, broadcasting (Vectorized ops), random numbers\n",
        "- core for all other libraries (Pasdas, TensoFlow, Pytorch)\n"
      ],
      "metadata": {
        "id": "O50illqp3xUg"
      }
    },
    {
      "cell_type": "markdown",
      "source": [
        "## 1. NumPy (Numerical Python)\n",
        "- multi-dimensional arrays (vectors, matrices)\n",
        "- used for: Array math, linear algebra, broadcasting (Vectorized ops), random numbers\n",
        "- core for all other libraries (Pasdas, TensoFlow, Pytorch)"
      ],
      "metadata": {
        "id": "OhUTCIoV4WKp"
      }
    },
    {
      "cell_type": "code",
      "execution_count": 8,
      "metadata": {
        "colab": {
          "base_uri": "https://localhost:8080/"
        },
        "id": "5gwwsl463aYe",
        "outputId": "cb2e262c-9ab9-44a0-93d6-67eb9e3f9633"
      },
      "outputs": [
        {
          "output_type": "execute_result",
          "data": {
            "text/plain": [
              "array([[ 7, 10],\n",
              "       [15, 22]])"
            ]
          },
          "metadata": {},
          "execution_count": 8
        }
      ],
      "source": [
        "import numpy as np\n",
        "\n",
        "arr = array = np.array([1,2,3])\n",
        "arr + 1 #output [2,3,4]\n",
        "#mean and std\n",
        "np.mean(arr) #2.0\n",
        "np.std(arr) #0.815...\n",
        "# 2D matrix\n",
        "mat = np.array([[1,2],[3,4]])\n",
        "mat.T #transpose\n",
        "np.dot(mat, mat) #matrix multiplication"
      ]
    },
    {
      "cell_type": "markdown",
      "source": [
        "## 2. Pandas\n",
        "- built on top of Numpy\n",
        "- for data manipulation and analysis\n",
        "- series (1D array) & DataFrame (2D table)\n",
        "- used for: reading data (CSV, excel), clearning data (missing values, renaming, filtering), exploring data (summaries, groupby, sorting, joining)"
      ],
      "metadata": {
        "id": "vZANJiJ86Yn0"
      }
    },
    {
      "cell_type": "code",
      "source": [
        "import pandas as pd\n",
        "\n",
        "#import dataframe\n",
        "df = pd.read_csv('Titanic-Dataset.csv')\n",
        "df.head() #first 5 rows\n",
        "df['Age'].mean() #column age mean\n",
        "df[df['Survived'] == 1] #filter rows that has survived\n",
        "\n",
        "#fill missing values\n",
        "df['Age'].fillna(df['Age'].mean(), inplace=True)\n",
        "\n",
        "#group by sex\n",
        "df.groupby('Sex')['Survived'].mean()"
      ],
      "metadata": {
        "colab": {
          "base_uri": "https://localhost:8080/",
          "height": 178
        },
        "id": "CBFX_mp765Ix",
        "outputId": "5f9f316e-dc43-42a0-980b-9c9c76eca141"
      },
      "execution_count": 18,
      "outputs": [
        {
          "output_type": "execute_result",
          "data": {
            "text/plain": [
              "Sex\n",
              "female    0.742038\n",
              "male      0.188908\n",
              "Name: Survived, dtype: float64"
            ],
            "text/html": [
              "<div>\n",
              "<style scoped>\n",
              "    .dataframe tbody tr th:only-of-type {\n",
              "        vertical-align: middle;\n",
              "    }\n",
              "\n",
              "    .dataframe tbody tr th {\n",
              "        vertical-align: top;\n",
              "    }\n",
              "\n",
              "    .dataframe thead th {\n",
              "        text-align: right;\n",
              "    }\n",
              "</style>\n",
              "<table border=\"1\" class=\"dataframe\">\n",
              "  <thead>\n",
              "    <tr style=\"text-align: right;\">\n",
              "      <th></th>\n",
              "      <th>Survived</th>\n",
              "    </tr>\n",
              "    <tr>\n",
              "      <th>Sex</th>\n",
              "      <th></th>\n",
              "    </tr>\n",
              "  </thead>\n",
              "  <tbody>\n",
              "    <tr>\n",
              "      <th>female</th>\n",
              "      <td>0.742038</td>\n",
              "    </tr>\n",
              "    <tr>\n",
              "      <th>male</th>\n",
              "      <td>0.188908</td>\n",
              "    </tr>\n",
              "  </tbody>\n",
              "</table>\n",
              "</div><br><label><b>dtype:</b> float64</label>"
            ]
          },
          "metadata": {},
          "execution_count": 18
        }
      ]
    },
    {
      "cell_type": "markdown",
      "source": [
        "## 3. Matplotlib & Seaborn\n",
        "- Matplotlib for main plotting library\n",
        "- Seaborn for more beautiful wrapper, focused on statistical plots\n",
        "- used for data visualization (trends, outliers, distributions)\n",
        "- histograms, lineplots, scatter plots, box plots, heatmaps"
      ],
      "metadata": {
        "id": "MCFez5SN6Xlx"
      }
    },
    {
      "cell_type": "code",
      "source": [
        "import matplotlib.pyplot as plt\n",
        "import seaborn as sns\n",
        "\n",
        "plt.hist(df['Age'].dropna(), bins = 20) #visualizing distribution of age, remove missing values\n",
        "plt.title(\"Age Distribution\")\n",
        "plt.show()\n",
        "\n",
        "sns.boxplot(x=\"Survived\", y = \"Age\", data=df)"
      ],
      "metadata": {
        "colab": {
          "base_uri": "https://localhost:8080/",
          "height": 902
        },
        "id": "gSuhgfG49BDQ",
        "outputId": "f2fdcead-4099-41a1-f4b6-a9d3c2b538d1"
      },
      "execution_count": 22,
      "outputs": [
        {
          "output_type": "display_data",
          "data": {
            "text/plain": [
              "<Figure size 640x480 with 1 Axes>"
            ],
            "image/png": "[encoded data removed]"
          },
          "metadata": {}
        },
        {
          "output_type": "execute_result",
          "data": {
            "text/plain": [
              "<Axes: xlabel='Survived', ylabel='Age'>"
            ]
          },
          "metadata": {},
          "execution_count": 22
        },
        {
          "output_type": "display_data",
          "data": {
            "text/plain": [
              "<Figure size 640x480 with 1 Axes>"
            ],
            "image/png": "[encoded data removed]"
          },
          "metadata": {}
        }
      ]
    },
    {
      "cell_type": "markdown",
      "source": [
        "## 4. Scikit-learn (sklearn)\n",
        "- built on NumPy, SciPy, Pandas\n",
        "- built-in ML models (classification, regression, clustering, etc.)\n",
        "- for building ML models\n",
        "- for Preprocessing (standardization, encoding), splitting data, cross-validation\n",
        "- for trying different ML algorithms\n",
        "\n",
        "- X is capitalized (features/input matrix 2D)\n",
        "\n",
        "- y is lowercase (target/output vector 1D)"
      ],
      "metadata": {
        "id": "2q4cgEbB-cWX"
      }
    },
    {
      "cell_type": "code",
      "source": [
        "from sklearn.linear_model import LogisticRegression\n",
        "from sklearn.model_selection import train_test_split\n",
        "from sklearn.metrics import accuracy_score\n",
        "\n",
        "#split data\n",
        "X = df[['Age','Fare']]\n",
        "y = df[\"Survived\"]\n",
        "X_train, X_test, y_train, y_test = train_test_split(X, y, test_size=0.2)\n",
        "\n",
        "#train model\n",
        "model = LogisticRegression()\n",
        "model.fit(X_train, y_train)\n",
        "model\n",
        "#predict\n",
        "preds = model.predict(X_test)\n",
        "accuracy_score(y_test, preds)"
      ],
      "metadata": {
        "colab": {
          "base_uri": "https://localhost:8080/"
        },
        "id": "6d9BQQeAB6cO",
        "outputId": "7c65c13b-ce2f-4831-d2ee-47a56454b557"
      },
      "execution_count": 29,
      "outputs": [
        {
          "output_type": "execute_result",
          "data": {
            "text/plain": [
              "0.659217877094972"
            ]
          },
          "metadata": {},
          "execution_count": 29
        }
      ]
    },
    {
      "cell_type": "markdown",
      "source": [
        "#"
      ],
      "metadata": {
        "id": "MJvtdELQEF8Q"
      }
    }
  ]
}